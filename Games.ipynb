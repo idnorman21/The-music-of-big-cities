{
 "cells": [
  {
   "cell_type": "markdown",
   "id": "83f54c8b",
   "metadata": {},
   "source": [
    " Этап 1. Получение данных.\n",
    "\n",
    "Мы работаем в интернет-магазине «Стримчик», который продаёт по всему\n",
    "миру компьютерные игры. Из открытых источников доступны исторические\n",
    "данные о продажах игр, оценки пользователей и экспертов, жанры и\n",
    "платформы (например, Xbox или PlayStation). Нам нужно выявить\n",
    "определяющие успешность игры закономерности. Это позволит сделать ставку\n",
    "на потенциально популярный продукт и спланировать рекламные кампании.\n",
    "\n",
    "Перед нами данные до 2016 года. Представим, что сейчас декабрь 2016 г.,\n",
    "и мы планируем кампанию на 2017-й. Нужно отработать принцип работы с\n",
    "данными. Не важно, прогнозируем ли мы продажи на 2017 год по данным\n",
    "2016-го или же 2027-й — по данным 2026 года.\n",
    "\n",
    "*Описание данных games.csv*\n",
    "\n",
    "Name — название игры\n",
    "\n",
    "Platform — платформа\n",
    "\n",
    "Year_of_Release — год выпуска\n",
    "\n",
    "Genre — жанр игры\n",
    "\n",
    "NA_sales — продажи в Северной Америке (миллионы долларов)\n",
    "\n",
    "EU_sales — продажи в Европе (миллионы долларов)\n",
    "\n",
    "JP_sales — продажи в Японии (миллионы долларов)\n",
    "\n",
    "Other_sales — продажи в других странах (миллионы долларов)\n",
    "\n",
    "Critic_Score — оценка критиков (от 0 до 100)\n",
    "\n",
    "User_Score — оценка пользователей (от 0 до 10)\n",
    "\n",
    "Rating — рейтинг от организации ESRB (англ. Entertainment Software\n",
    "Rating Board). Эта ассоциация определяет рейтинг компьютерных игр и\n",
    "присваивает им подходящую возрастную категорию.\n",
    "\n",
    "Данные за 2016 год могут быть неполными.\n"
   ]
  },
  {
   "cell_type": "markdown",
   "id": "d8109ec6",
   "metadata": {},
   "source": [
    "Импортируем библиотеку Pandas для анализа данных по проекту"
   ]
  },
  {
   "cell_type": "code",
   "execution_count": 1,
   "id": "afb69954",
   "metadata": {},
   "outputs": [],
   "source": [
    "import pandas as pd"
   ]
  },
  {
   "cell_type": "markdown",
   "id": "81a88dcb",
   "metadata": {},
   "source": [
    "Импортируем библиотеки seaborn и matplotlib для создания графиков."
   ]
  },
  {
   "cell_type": "code",
   "execution_count": 4,
   "id": "55c7f1a3",
   "metadata": {},
   "outputs": [],
   "source": [
    "import matplotlib.pyplot as plt"
   ]
  },
  {
   "cell_type": "markdown",
   "id": "81a7e921",
   "metadata": {},
   "source": [
    "Импортируем библиотеку numpy для подсчёта статистических показателей."
   ]
  },
  {
   "cell_type": "markdown",
   "id": "49bc9ffd",
   "metadata": {},
   "source": [
    "Импортируем из библиотеки scipy статические методы для анализа\n",
    "статистики."
   ]
  },
  {
   "cell_type": "code",
   "execution_count": 5,
   "id": "3b6cdb6a",
   "metadata": {},
   "outputs": [],
   "source": [
    "from scipy import stats as st"
   ]
  },
  {
   "cell_type": "code",
   "execution_count": null,
   "id": "89aac22e",
   "metadata": {},
   "outputs": [],
   "source": [
    "Прочитаем файл games.csv и сохраним его в переменной games."
   ]
  },
  {
   "cell_type": "code",
   "execution_count": null,
   "id": "fa015b80",
   "metadata": {},
   "outputs": [],
   "source": []
  }
 ],
 "metadata": {
  "kernelspec": {
   "display_name": "Python 3",
   "language": "python",
   "name": "python3"
  },
  "language_info": {
   "codemirror_mode": {
    "name": "ipython",
    "version": 3
   },
   "file_extension": ".py",
   "mimetype": "text/x-python",
   "name": "python",
   "nbconvert_exporter": "python",
   "pygments_lexer": "ipython3",
   "version": "3.6.13"
  }
 },
 "nbformat": 4,
 "nbformat_minor": 5
}
